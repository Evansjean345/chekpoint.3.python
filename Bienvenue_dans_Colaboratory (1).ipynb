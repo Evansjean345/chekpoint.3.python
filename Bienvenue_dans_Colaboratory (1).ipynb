{
  "cells": [
    {
      "cell_type": "code",
      "source": [
        "#question 1\n",
        "\n",
        "import numpy\n",
        "\n",
        "def main():\n",
        "\n",
        "  \n",
        "  my_list=[3,5,6,74,5]\n",
        "  my_list_mul=numpy.prod(my_list)\n",
        "  print(\"la multiplication des elemnts de ma liste est {}\".format(my_list_mul))\n",
        "\n",
        "if __name__ == '__main__':\n",
        "    main()\n"
      ],
      "metadata": {
        "colab": {
          "base_uri": "https://localhost:8080/"
        },
        "id": "TFVnFFWoWASR",
        "outputId": "f084a593-be32-47d6-f27f-5c8fd5697dc9"
      },
      "execution_count": 32,
      "outputs": [
        {
          "output_type": "stream",
          "name": "stdout",
          "text": [
            "la multiplication des elemnts de ma liste est 33300\n"
          ]
        }
      ]
    },
    {
      "cell_type": "code",
      "source": [
        "#question 2\n",
        "\n",
        "def main():\n",
        "\n",
        "  my_list_of_tuple=[(4,6),(7,9),(5,9,0)]\n",
        "  my_list_of_tuple.sort()\n",
        "  new_list_of_tuple=sorted(my_list_of_tuple,reverse=True)\n",
        "  print(\"ma nouvelle liste triée par ordre décroissant est {}\".format(new_list_of_tuple))\n",
        "\n",
        "if __name__ == '__main__':\n",
        "    main()\n",
        "    "
      ],
      "metadata": {
        "colab": {
          "base_uri": "https://localhost:8080/"
        },
        "id": "7ahcmjwDlOMR",
        "outputId": "cc1e5e98-c69f-4709-aadc-818e6b27eac1"
      },
      "execution_count": 46,
      "outputs": [
        {
          "output_type": "stream",
          "name": "stdout",
          "text": [
            "ma nouvelle liste triée par ordre décroissant est [(7, 9), (5, 9, 0), (4, 6)]\n"
          ]
        }
      ]
    },
    {
      "cell_type": "code",
      "source": [
        "#question 3\n",
        "from collections import Counter\n",
        "\n",
        "\n",
        "def main():\n",
        "\n",
        "  my_dict1= {'a' : 100, 'b' : 200, 'c' : 300}\n",
        "  my_dict2= {'a' : 300, 'b' : 200, 'd' : 400}\n",
        "\n",
        "  new_dict=Counter(my_dict1)+Counter(my_dict2)\n",
        "    \n",
        "  print(\"le total des differentes valeurs de mes deux dictionnaires sera:{} \".format(new_dict))\n",
        "\n",
        "\n",
        "if __name__ == '__main__':\n",
        "    main()"
      ],
      "metadata": {
        "colab": {
          "base_uri": "https://localhost:8080/"
        },
        "id": "OjaAUURRIqKH",
        "outputId": "3b667263-1c3b-4dd3-ff90-e1cde315442c"
      },
      "execution_count": 10,
      "outputs": [
        {
          "output_type": "stream",
          "name": "stdout",
          "text": [
            "le total des differentes valeurs de mes deux dictionnaires sera:Counter({'a': 400, 'b': 400, 'd': 400, 'c': 300}) \n"
          ]
        }
      ]
    },
    {
      "cell_type": "code",
      "source": [
        "#question 4\n",
        "\n",
        "def main():\n",
        "\n",
        "  number=int(input(\"entrer un nombre\"))\n",
        "  my_dict3={}\n",
        "  for i in range(1,number+1):\n",
        "      my_dict3[i]=i*i\n",
        "  print('le dictionnaire renvoya est : {}'.format(my_dict3))\n",
        "\n",
        "if __name__ == '__main__':\n",
        "    main()"
      ],
      "metadata": {
        "colab": {
          "base_uri": "https://localhost:8080/"
        },
        "id": "UN-QSpjhjU7k",
        "outputId": "a7a2b90c-7c21-4add-e145-38d870ca2b11"
      },
      "execution_count": 3,
      "outputs": [
        {
          "output_type": "stream",
          "name": "stdout",
          "text": [
            "entrer un nombre3\n",
            "le dictionnaire renvoya est : {1: 1, 2: 4, 3: 9}\n"
          ]
        }
      ]
    },
    {
      "cell_type": "code",
      "source": [
        "#question5\n",
        "\n",
        "def main():\n",
        "\n",
        "  my_list_of_tuple2=[('item1', '12.20'), ('item2', '15.10'), ('item3', '24.5')]\n",
        "  my_list_of_tuple2.sort()\n",
        "  sorted_list_of_tuple=sorted(my_list_of_tuple2,reverse=True)\n",
        "  print('ma liste de tuple triée est :{} '.format(sorted_list_of_tuple))\n",
        "\n",
        "if __name__ == '__main__':\n",
        "    main()"
      ],
      "metadata": {
        "colab": {
          "base_uri": "https://localhost:8080/"
        },
        "id": "IJRU5QsTnk0r",
        "outputId": "ab581a33-1630-4248-b42a-12c821553280"
      },
      "execution_count": 12,
      "outputs": [
        {
          "output_type": "stream",
          "name": "stdout",
          "text": [
            "ma liste de tuple triée est :[('item3', '24.5'), ('item2', '15.10'), ('item1', '12.20')] \n"
          ]
        }
      ]
    }
  ],
  "metadata": {
    "colab": {
      "collapsed_sections": [],
      "name": "Bienvenue dans Colaboratory",
      "toc_visible": true,
      "provenance": []
    },
    "kernelspec": {
      "display_name": "Python 3",
      "name": "python3"
    }
  },
  "nbformat": 4,
  "nbformat_minor": 0
}